{
 "cells": [
  {
   "cell_type": "code",
   "execution_count": 7,
   "metadata": {
    "id": "vtsosaZ3hrxU"
   },
   "outputs": [],
   "source": [
    "import pandas as pd\n",
    "import numpy as np\n",
    "import torch\n",
    "import torch.nn as nn\n",
    "from torch import optim\n",
    "import torch.nn.functional as F\n",
    "import torch.utils.data"
   ]
  },
  {
   "cell_type": "code",
   "execution_count": 8,
   "metadata": {
    "colab": {
     "base_uri": "https://localhost:8080/"
    },
    "id": "sBDo0SBhklIN",
    "outputId": "31a22cf0-3a74-4268-a088-2ff6413180b8"
   },
   "outputs": [
    {
     "name": "stdout",
     "output_type": "stream",
     "text": [
      "Training shape: (216, 162)\n",
      "Training labels shape: (216, 1)\n",
      "Examples per label\n",
      "0\n",
      "0     55\n",
      "1    161\n",
      "Name: 0, dtype: int64\n",
      "Training data head\n",
      "         1-hexadecanol  1-monostearin  1,2,4-benzenetriol  \\\n",
      "case_95       9.729131       9.372530           12.635429   \n",
      "case_88      10.961073       9.353313           12.692373   \n",
      "case_24      10.995057       9.384110           12.954097   \n",
      "\n",
      "         1,5-anhydroglucitol  2-aminoadipic,acid  2-hydroxybutanoic,acid  \\\n",
      "case_95            14.711658           11.162607               14.145654   \n",
      "case_88            14.371407           11.128662               14.228230   \n",
      "case_24            13.323175            8.162313               14.392132   \n",
      "\n",
      "         2-hydroxyglutaric,acid  2-hydroxyvaleric,acid  2-ketoadipic,acid  \\\n",
      "case_95               12.334462              14.358346          12.103635   \n",
      "case_88               12.177452              14.923601          12.378531   \n",
      "case_24               17.532062              16.000497          12.558596   \n",
      "\n",
      "         2-ketoglucose,dimethylacetal,NIST  ...  trehalose  tryptophan  \\\n",
      "case_95                           5.686638  ...  12.442494   14.244449   \n",
      "case_88                           6.527790  ...  11.079405   14.744379   \n",
      "case_24                           6.235479  ...   9.846626   13.916428   \n",
      "\n",
      "          tyrosine     uracil       urea  uric,acid    uridine  \\\n",
      "case_95  16.625366  15.192479  18.991252  13.594835  10.820097   \n",
      "case_88  17.078661  14.517391  17.769687  12.833925  10.172577   \n",
      "case_24  15.891040  15.440454  18.206261  13.260406   9.085237   \n",
      "\n",
      "         uridine-5'-monophosphate     valine   xanthine  \n",
      "case_95                  7.306034  17.595868  11.431424  \n",
      "case_88                  8.658402  17.265167   8.184619  \n",
      "case_24                  6.846626  17.365810   8.544668  \n",
      "\n",
      "[3 rows x 162 columns]\n",
      "Training labels head\n",
      "   0\n",
      "0  1\n",
      "1  1\n",
      "2  0\n"
     ]
    }
   ],
   "source": [
    "#Load train data\n",
    "X_train = pd.read_csv('data/EstrogenReceptorStatus_Train.csv',index_col=0)\n",
    "print(\"Training shape: {}\".format(X_train.shape))\n",
    "\n",
    "y_train = pd.read_csv('data/EstrogenReceptorStatus_Train_labels.txt',header=None)\n",
    "print(\"Training labels shape: {}\".format(y_train.shape))\n",
    "print(\"Examples per label\")\n",
    "print(y_train.groupby([0])[0].count())\n",
    "\n",
    "print(\"Training data head\")\n",
    "print(X_train.head(3))\n",
    "# X_train = X_train.to_numpy\n",
    "X_train = np.asarray(X_train)\n",
    "\n",
    "print(\"Training labels head\")\n",
    "print(y_train.head(3))\n",
    "# y_train = y_train.to_numpy\n",
    "y_train = np.asarray(y_train)\n"
   ]
  },
  {
   "cell_type": "code",
   "execution_count": 9,
   "metadata": {
    "colab": {
     "base_uri": "https://localhost:8080/"
    },
    "id": "LC7l2388nZ87",
    "outputId": "51f8ace4-24e0-4ce4-9bdd-1b24043febbb"
   },
   "outputs": [
    {
     "name": "stdout",
     "output_type": "stream",
     "text": [
      "Test shape: (55, 162)\n",
      "Type: <class 'numpy.ndarray'>\n",
      "Test labels shape: (55, 1)\n",
      "Examples per label\n",
      "0\n",
      "0    12\n",
      "1    43\n",
      "Name: 0, dtype: int64\n"
     ]
    }
   ],
   "source": [
    "#Load test data\n",
    "X_test = pd.read_csv('data/EstrogenReceptorStatus_Test.csv',index_col=0)\n",
    "print(\"Test shape: {}\".format(X_test.shape))\n",
    "# X_test = X_test.to_numpy\n",
    "X_test = np.asarray(X_test)\n",
    "print(\"Type: {}\".format(type(X_test)))\n",
    "\n",
    "y_test = pd.read_csv('data/EstrogenReceptorStatus_Test_labels.txt',header=None)\n",
    "print(\"Test labels shape: {}\".format(y_test.shape))\n",
    "print(\"Examples per label\")\n",
    "print(y_test.groupby([0])[0].count())\n",
    "# y_test = y_test.to_numpy\n",
    "y_test = np.asarray(y_test)\n"
   ]
  },
  {
   "cell_type": "code",
   "execution_count": 10,
   "metadata": {
    "colab": {
     "base_uri": "https://localhost:8080/"
    },
    "id": "DqwW2ts_pCh-",
    "outputId": "d8cfb1aa-cc22-4ff8-8961-9883560ebbde"
   },
   "outputs": [
    {
     "name": "stdout",
     "output_type": "stream",
     "text": [
      "Training data shape: torch.Size([216, 162])\n",
      "Training label shape: torch.Size([216])\n",
      "Test data shape: torch.Size([55, 162])\n",
      "Test label shape: torch.Size([55])\n"
     ]
    }
   ],
   "source": [
    "# Mapeamos datos a tensores de PyTorch\n",
    "X_train, y_train, X_test, y_test = map(torch.tensor, (X_train, y_train, X_test, y_test))\n",
    "y_train = torch.flatten(y_train)\n",
    "y_test = torch.flatten(y_test)\n",
    "print(\"Training data shape: {}\".format(X_train.shape))\n",
    "print(\"Training label shape: {}\".format(y_train.shape))\n",
    "print(\"Test data shape: {}\".format(X_test.shape))\n",
    "print(\"Test label shape: {}\".format(y_test.shape))"
   ]
  },
  {
   "cell_type": "code",
   "execution_count": 11,
   "metadata": {
    "colab": {
     "base_uri": "https://localhost:8080/"
    },
    "id": "4h6WYbSUtPDU",
    "outputId": "a45d800a-e448-4dc1-9d6a-eb2b2d6caff5"
   },
   "outputs": [
    {
     "name": "stdout",
     "output_type": "stream",
     "text": [
      "Training data shape: torch.Size([216, 162])\n",
      "Training label shape: torch.Size([216])\n",
      "Test data shape: torch.Size([55, 162])\n",
      "Training data shape: torch.Size([55])\n"
     ]
    }
   ],
   "source": [
    "X_train = X_train.float()\n",
    "y_train = y_train.long()\n",
    "X_test = X_test.float()\n",
    "y_test = y_test.long()\n",
    "\n",
    "print(\"Training data shape: {}\".format(X_train.shape))\n",
    "print(\"Training label shape: {}\".format(y_train.shape))\n",
    "print(\"Test data shape: {}\".format(X_test.shape))\n",
    "print(\"Training data shape: {}\".format(y_test.shape))"
   ]
  },
  {
   "cell_type": "code",
   "execution_count": 12,
   "metadata": {
    "id": "umTQgB7QlkMN"
   },
   "outputs": [],
   "source": [
    "class FFNN(nn.Module):\n",
    "  \n",
    "  def __init__(self):\n",
    "    super().__init__()\n",
    "    torch.manual_seed(0)\n",
    "    self.net = nn.Sequential(\n",
    "        nn.Linear(162, 30), \n",
    "        nn.ReLU(),\n",
    "        nn.Linear(30, 30),\n",
    "        nn.ReLU(),\n",
    "        nn.Linear(30, 2), \n",
    "        nn.Softmax()\n",
    "    )\n",
    "\n",
    "  def forward(self, X):\n",
    "    return self.net(X)\n",
    "\n",
    "  def predict(self, X):\n",
    "    Y_pred = self.forward(X)\n",
    "    return Y_pred\n"
   ]
  },
  {
   "cell_type": "code",
   "execution_count": 13,
   "metadata": {
    "id": "TQlfxMUqsJuS"
   },
   "outputs": [],
   "source": [
    "def fit_v2(x, y, model, opt, loss_fn, epochs = 1000):\n",
    "  \n",
    "  for epoch in range(epochs):\n",
    "    loss = loss_fn(model(x), y)\n",
    "    loss.backward()\n",
    "    opt.step()\n",
    "    opt.zero_grad()\n",
    "    # print(loss.item())\n",
    "    \n",
    "  return loss.item()"
   ]
  },
  {
   "cell_type": "code",
   "execution_count": 14,
   "metadata": {
    "colab": {
     "base_uri": "https://localhost:8080/"
    },
    "id": "QBUVcDPpsPxy",
    "outputId": "2ea7e581-329d-4e80-b3c3-7b293c329c4d"
   },
   "outputs": [
    {
     "name": "stderr",
     "output_type": "stream",
     "text": [
      "c:\\Users\\COMPUTOCKS\\AppData\\Local\\Programs\\Python\\Python37\\lib\\site-packages\\torch\\nn\\modules\\container.py:204: UserWarning: Implicit dimension choice for softmax has been deprecated. Change the call to include dim=X as an argument.\n",
      "  input = module(input)\n"
     ]
    },
    {
     "name": "stdout",
     "output_type": "stream",
     "text": [
      "Final loss 0.5656735301017761\n"
     ]
    }
   ],
   "source": [
    "device = torch.device(\"cpu\")\n",
    "\n",
    "X_train=X_train.to(device)\n",
    "y_train=y_train.to(device)\n",
    "X_test=X_test.to(device)\n",
    "y_test=y_test.to(device)\n",
    "fn = FFNN()\n",
    "fn.to(device)\n",
    "loss_fn = F.cross_entropy\n",
    "opt = optim.SGD(fn.parameters(), lr=0.01)\n",
    "# opt = optim.AdamW(fn.parameters(), lr=0.01)\n",
    "\n",
    "print('Final loss', fit_v2(X_train, y_train, fn, opt, loss_fn))"
   ]
  },
  {
   "cell_type": "code",
   "execution_count": 15,
   "metadata": {
    "id": "_eBDehbd4OKx"
   },
   "outputs": [],
   "source": [
    "def accuracy(y_hat, y):\n",
    "  pred = torch.argmax(y_hat, dim=1)\n",
    "  return (pred == y).float().mean()"
   ]
  },
  {
   "cell_type": "code",
   "execution_count": 16,
   "metadata": {
    "colab": {
     "base_uri": "https://localhost:8080/"
    },
    "id": "70exwZzU4UwG",
    "outputId": "37133668-572d-4776-a63e-b21a98186acf"
   },
   "outputs": [
    {
     "name": "stdout",
     "output_type": "stream",
     "text": [
      "Training accuracy tensor(0.7454)\n",
      "Test accuracy tensor(0.7818)\n"
     ]
    }
   ],
   "source": [
    "Y_pred_train = fn.predict(X_train)\n",
    "#Y_pred_train = np.argmax(Y_pred_train,1)\n",
    "Y_pred_test = fn.predict(X_test)\n",
    "#Y_pred_val = np.argmax(Y_pred_val,1)\n",
    "\n",
    "accuracy_train = accuracy(Y_pred_train, y_train)\n",
    "accuracy_test = accuracy(Y_pred_test, y_test)\n",
    "\n",
    "print(\"Training accuracy\", (accuracy_train))\n",
    "print(\"Test accuracy\",(accuracy_test))"
   ]
  },
  {
   "cell_type": "code",
   "execution_count": 17,
   "metadata": {
    "id": "hgd6fT555HWh"
   },
   "outputs": [
    {
     "name": "stdout",
     "output_type": "stream",
     "text": [
      "tensor([[1.4470e-03, 9.9855e-01],\n",
      "        [1.6987e-03, 9.9830e-01],\n",
      "        [7.4396e-04, 9.9926e-01],\n",
      "        [6.4093e-04, 9.9936e-01],\n",
      "        [7.4992e-04, 9.9925e-01],\n",
      "        [2.3222e-03, 9.9768e-01],\n",
      "        [4.2696e-04, 9.9957e-01],\n",
      "        [2.0166e-04, 9.9980e-01],\n",
      "        [5.2661e-04, 9.9947e-01],\n",
      "        [4.1780e-04, 9.9958e-01],\n",
      "        [2.1103e-03, 9.9789e-01],\n",
      "        [8.0393e-04, 9.9920e-01],\n",
      "        [4.0256e-04, 9.9960e-01],\n",
      "        [3.5450e-04, 9.9965e-01],\n",
      "        [2.9960e-03, 9.9700e-01],\n",
      "        [7.3735e-04, 9.9926e-01],\n",
      "        [1.4495e-03, 9.9855e-01],\n",
      "        [1.9574e-03, 9.9804e-01],\n",
      "        [4.7706e-04, 9.9952e-01],\n",
      "        [4.5524e-04, 9.9954e-01],\n",
      "        [2.1890e-03, 9.9781e-01],\n",
      "        [2.9192e-04, 9.9971e-01],\n",
      "        [3.2595e-04, 9.9967e-01],\n",
      "        [2.0867e-03, 9.9791e-01],\n",
      "        [9.5795e-04, 9.9904e-01],\n",
      "        [3.0283e-04, 9.9970e-01],\n",
      "        [1.2642e-03, 9.9874e-01],\n",
      "        [6.2599e-03, 9.9374e-01],\n",
      "        [9.6212e-04, 9.9904e-01],\n",
      "        [6.4244e-04, 9.9936e-01],\n",
      "        [5.4987e-04, 9.9945e-01],\n",
      "        [3.6283e-04, 9.9964e-01],\n",
      "        [8.1447e-04, 9.9919e-01],\n",
      "        [9.4350e-03, 9.9057e-01],\n",
      "        [2.4728e-04, 9.9975e-01],\n",
      "        [1.7251e-03, 9.9827e-01],\n",
      "        [7.6206e-04, 9.9924e-01],\n",
      "        [1.2233e-03, 9.9878e-01],\n",
      "        [7.0107e-04, 9.9930e-01],\n",
      "        [4.0158e-03, 9.9598e-01],\n",
      "        [5.8060e-04, 9.9942e-01],\n",
      "        [4.1180e-03, 9.9588e-01],\n",
      "        [1.6595e-03, 9.9834e-01],\n",
      "        [1.3683e-03, 9.9863e-01],\n",
      "        [1.3001e-03, 9.9870e-01],\n",
      "        [1.6915e-03, 9.9831e-01],\n",
      "        [3.0887e-04, 9.9969e-01],\n",
      "        [2.5351e-03, 9.9746e-01],\n",
      "        [9.8938e-04, 9.9901e-01],\n",
      "        [8.2027e-04, 9.9918e-01],\n",
      "        [3.4862e-04, 9.9965e-01],\n",
      "        [1.6464e-03, 9.9835e-01],\n",
      "        [3.2467e-04, 9.9968e-01],\n",
      "        [4.4634e-02, 9.5537e-01],\n",
      "        [7.9571e-04, 9.9920e-01]], grad_fn=<SoftmaxBackward0>)\n"
     ]
    }
   ],
   "source": [
    "print(Y_pred_test)"
   ]
  },
  {
   "cell_type": "code",
   "execution_count": 18,
   "metadata": {},
   "outputs": [
    {
     "name": "stdout",
     "output_type": "stream",
     "text": [
      "tensor([1, 1, 1, 1, 1, 1, 1, 1, 1, 1, 1, 1, 1, 1, 1, 1, 1, 1, 1, 1, 1, 1, 1, 1,\n",
      "        1, 1, 1, 1, 1, 1, 1, 1, 1, 1, 1, 1, 1, 1, 1, 1, 1, 1, 1, 1, 1, 1, 1, 1,\n",
      "        1, 1, 1, 1, 1, 1, 1])\n"
     ]
    }
   ],
   "source": [
    "pred = torch.argmax(Y_pred_test, dim=1)\n",
    "print(pred)"
   ]
  }
 ],
 "metadata": {
  "colab": {
   "provenance": []
  },
  "kernelspec": {
   "display_name": "Python 3",
   "language": "python",
   "name": "python3"
  },
  "language_info": {
   "codemirror_mode": {
    "name": "ipython",
    "version": 3
   },
   "file_extension": ".py",
   "mimetype": "text/x-python",
   "name": "python",
   "nbconvert_exporter": "python",
   "pygments_lexer": "ipython3",
   "version": "3.7.9"
  }
 },
 "nbformat": 4,
 "nbformat_minor": 1
}
